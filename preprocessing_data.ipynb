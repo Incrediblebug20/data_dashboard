{
 "cells": [
  {
   "cell_type": "code",
   "execution_count": null,
   "id": "3b88f777-9512-41f3-8f2f-3d92637449df",
   "metadata": {},
   "outputs": [],
   "source": [
    "# preprocessing the data \n",
    "import pandas as pd\n",
    "\n",
    "def preprocess_data(file_path):\n",
    "    # Load cleaned data\n",
    "    df = pd.read_csv(file_path)\n",
    "    \n",
    "    # Example preprocessing steps\n",
    "    df['age_group'] = pd.cut(df['age'], bins=[0, 18, 35, 50, 65, 100], labels=['0-18', '19-35', '36-50', '51-65', '65+'])\n",
    "    \n",
    "    # Save processed data\n",
    "    df.to_csv(r'c:\\healthdata_analysis\\processed_data.csv', index=False)\n",
    "\n",
    "if __name__ == \"__main__\":\n",
    "    preprocess_data(r'C:\\healthdata_analysis\\health_data.csv')"
   ]
  }
 ],
 "metadata": {
  "kernelspec": {
   "display_name": "Python 3 (ipykernel)",
   "language": "python",
   "name": "python3"
  },
  "language_info": {
   "codemirror_mode": {
    "name": "ipython",
    "version": 3
   },
   "file_extension": ".py",
   "mimetype": "text/x-python",
   "name": "python",
   "nbconvert_exporter": "python",
   "pygments_lexer": "ipython3",
   "version": "3.12.4"
  }
 },
 "nbformat": 4,
 "nbformat_minor": 5
}
